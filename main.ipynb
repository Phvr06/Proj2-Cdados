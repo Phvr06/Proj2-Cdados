{
 "cells": [
  {
   "cell_type": "code",
   "execution_count": null,
   "metadata": {},
   "outputs": [],
   "source": [
    "import pandas as pd\n",
    "import matplotlib.pyplot as plt\n",
    "import numpy as np"
   ]
  },
  {
   "cell_type": "code",
   "execution_count": null,
   "metadata": {},
   "outputs": [],
   "source": [
    "dados = pd.read_csv('./MICRODADOS_ENEM_2022.csv', sep=';', encoding='ISO-8859-1')\n",
    "dados.dropna(inplace=True)\n",
    "dados.reset_index(drop=True, inplace=True)"
   ]
  },
  {
   "cell_type": "code",
   "execution_count": null,
   "metadata": {},
   "outputs": [],
   "source": [
    "target = dados.NU_NOTA_MT\n",
    "nota_humanas = dados.NU_NOTA_CH\n",
    "sexo = dados.TP_SEXO\n",
    "cor_raca = dados.TP_COR_RACA\n",
    "renda = dados.Q006\n",
    "treineiro = dados.IN_TREINEIRO"
   ]
  },
  {
   "cell_type": "code",
   "execution_count": null,
   "metadata": {},
   "outputs": [],
   "source": [
    "cor_raca = pd.Categorical(cor_raca)\n",
    "renda = pd.Categorical(renda)\n",
    "treineiro = pd.Categorical(treineiro)\n",
    "\n",
    "cor_raca = cor_raca.rename_categories(['Não declarado', 'Branca', 'Preta', 'Parda', 'Amarela', 'Indígena'])\n",
    "renda = renda.rename_categories([\n",
    "    'Nenhuma Renda', \n",
    "    'Até R$ 1.212,00', \n",
    "    'De R$ 1.212,01 até R$ 1.818,00',\n",
    "    'De R$ 1.818,01 até R$ 2.424,00',\n",
    "    'De R$ 2.424,01 até R$ 3.030,00',\n",
    "    'De R$ 3.030,01 até R$ 3.636,00',\n",
    "    'De R$ 3.636,01 até R$ 4.848,00',\n",
    "    'De R$ 4.848,01 até R$ 6.060,00',\n",
    "    'De R$ 6.060,01 até R$ 7.272,00',\n",
    "    'De R$ 7.272,01 até R$ 8.484,00',\n",
    "    'De R$ 8.484,01 até R$ 9.696,00',\n",
    "    'De R$ 9.696,01 até R$ 10.908,00',\n",
    "    'De R$ 10.908,01 até R$ 12.120,00',\n",
    "    'De R$ 12.120,01 até R$ 14.544,00',\n",
    "    'De R$ 14.544,01 até R$ 18.180,00',\n",
    "    'De R$ 18.180,01 até R$ 24.240,00',\n",
    "    'Acima de R$ 24.240,00'\n",
    "])\n",
    "treineiro = treineiro.rename_categories(['Não Treineiro', 'Treineiro'])\n",
    "\n",
    "dados['TP_COR_RACA'] = cor_raca\n",
    "dados['Q006'] = renda\n",
    "dados['IN_TREINEIRO'] = treineiro"
   ]
  },
  {
   "cell_type": "markdown",
   "metadata": {},
   "source": [
    "### Comparando a variável target (Nota de matemática) com a feature (Sexo)"
   ]
  },
  {
   "cell_type": "code",
   "execution_count": null,
   "metadata": {},
   "outputs": [],
   "source": [
    "nota_mat_masc = dados.loc[dados.TP_SEXO == 'M', 'NU_NOTA_MT']\n",
    "nota_mat_fem = dados.loc[dados.TP_SEXO == 'F', 'NU_NOTA_MT']\n",
    "\n",
    "amp = np.linspace(0, 1000, 21)\n",
    "plt.figure(figsize=(12, 6))\n",
    "# plt.subplot(211)\n",
    "plt.hist(nota_mat_masc, bins=amp, edgecolor='black', density=True)\n",
    "plt.title('Masculino')\n",
    "plt.xticks(amp)\n",
    "# plt.subplot(212)\n",
    "plt.hist(nota_mat_fem, bins=amp, edgecolor='black', density=True, alpha=0.5)\n",
    "plt.title('Feminino')\n",
    "plt.xticks(amp)\n",
    "plt.show()"
   ]
  },
  {
   "cell_type": "code",
   "execution_count": null,
   "metadata": {},
   "outputs": [],
   "source": [
    "dados.groupby('TP_SEXO').describe()['NU_NOTA_MT'].T.apply(lambda x: x.round(2))"
   ]
  },
  {
   "cell_type": "markdown",
   "metadata": {},
   "source": [
    "### Comparando a variável target (Nota de matemática) com a feature (Nota de humanas)"
   ]
  },
  {
   "cell_type": "code",
   "execution_count": null,
   "metadata": {},
   "outputs": [],
   "source": [
    "target.corr(nota_humanas)"
   ]
  },
  {
   "cell_type": "markdown",
   "metadata": {},
   "source": [
    "### Comparando a variável target (Nota de matemática) com a feature (Cor/Raça)"
   ]
  },
  {
   "cell_type": "code",
   "execution_count": null,
   "metadata": {},
   "outputs": [],
   "source": [
    "amp = np.linspace(0, 1000, 21)\n",
    "for category in cor_raca.categories:\n",
    "    notas = dados.loc[dados.TP_COR_RACA == category, 'NU_NOTA_MT']\n",
    "    plt.figure(figsize=(12, 6))\n",
    "    plt.hist(notas, bins=amp, alpha=0.5, label=category, density=True, edgecolor='black')\n",
    "    plt.legend()\n",
    "    plt.xticks(amp)\n",
    "    plt.show()\n"
   ]
  },
  {
   "cell_type": "code",
   "execution_count": null,
   "metadata": {},
   "outputs": [],
   "source": [
    "dados.groupby('TP_COR_RACA').describe()['NU_NOTA_MT'].T.apply(lambda x: x.round(2))"
   ]
  },
  {
   "cell_type": "markdown",
   "metadata": {},
   "source": [
    "### Comparando a variável target (Nota de matemática) com a feature (Treineiro)"
   ]
  },
  {
   "cell_type": "code",
   "execution_count": null,
   "metadata": {},
   "outputs": [],
   "source": [
    "amp = np.linspace(0, 1000, 21)\n",
    "plt.figure(figsize=(12, 6))\n",
    "for category in treineiro.categories:\n",
    "    notas = dados.loc[dados.IN_TREINEIRO == category, 'NU_NOTA_MT']\n",
    "    plt.hist(notas, bins=amp, alpha=0.5, label=category, density=True, edgecolor='black')\n",
    "    plt.legend()\n",
    "    plt.xticks(amp)\n",
    "\n",
    "plt.show()"
   ]
  },
  {
   "cell_type": "code",
   "execution_count": null,
   "metadata": {},
   "outputs": [],
   "source": [
    "dados.groupby('IN_TREINEIRO').describe()['NU_NOTA_MT'].T.apply(lambda x: x.round(2))"
   ]
  },
  {
   "cell_type": "markdown",
   "metadata": {},
   "source": [
    "### Comparando a variável target (Nota de matemática) com a feature (Renda)"
   ]
  },
  {
   "cell_type": "code",
   "execution_count": null,
   "metadata": {},
   "outputs": [],
   "source": [
    "amp = np.linspace(0, 1000, 21)\n",
    "for category in renda.categories:\n",
    "    notas = dados.loc[dados.Q006 == category, 'NU_NOTA_MT']\n",
    "    plt.figure(figsize=(12, 6))\n",
    "    plt.hist(notas, bins=amp, alpha=0.5, label=category, density=True, edgecolor='black')\n",
    "    plt.legend()\n",
    "    plt.xticks(amp)\n",
    "    plt.show()"
   ]
  },
  {
   "cell_type": "code",
   "execution_count": null,
   "metadata": {},
   "outputs": [],
   "source": [
    "dados.groupby('Q006').describe()['NU_NOTA_MT'].T.apply(lambda x: x.round(2))"
   ]
  }
 ],
 "metadata": {
  "kernelspec": {
   "display_name": "data",
   "language": "python",
   "name": "python3"
  },
  "language_info": {
   "codemirror_mode": {
    "name": "ipython",
    "version": 3
   },
   "file_extension": ".py",
   "mimetype": "text/x-python",
   "name": "python",
   "nbconvert_exporter": "python",
   "pygments_lexer": "ipython3",
   "version": "3.11.5"
  }
 },
 "nbformat": 4,
 "nbformat_minor": 2
}
